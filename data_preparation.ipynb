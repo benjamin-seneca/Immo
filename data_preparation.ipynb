{
 "cells": [
  {
   "cell_type": "code",
   "execution_count": 1,
   "metadata": {},
   "outputs": [],
   "source": [
    "# import des differents modules\n",
    "\n",
    "import numpy as  np\n",
    "import sklearn as svm\n",
    "import seaborn as sns\n",
    "import missingno\n",
    "import pandas as pd\n",
    "import matplotlib.pyplot as plt\n",
    "from matplotlib.pyplot import plot\n",
    "from matplotlib.pyplot import axis\n",
    "from sklearn.model_selection import train_test_split\n",
    "from sklearn.neighbors import KNeighborsClassifier"
   ]
  },
  {
   "cell_type": "code",
   "execution_count": null,
   "metadata": {},
   "outputs": [],
   "source": [
    "data = pd.read_csv('df.csv')\n",
    "pd.options.display.max_columns = 40"
   ]
  },
  {
   "cell_type": "code",
   "execution_count": null,
   "metadata": {},
   "outputs": [],
   "source": [
    "\n",
    "if st.sidebar.button(\"Clique dessus tu ne vas pas t'en remettre promis juré craché\"):\n",
    "    st.video(\"https://youtu.be/Et_sv6uk4Rk\")\n",
    "\n",
    "\n",
    "if st.sidebar.button(\"Clique ici c'est safe ?\"):\n",
    "    st.image('https://media1.tenor.com/images/72633f9c12ef5004d873d9cc6556ae4d/tenor.gif?itemid=5034006')\n",
    "    for i in range(10):\n",
    "        st.balloons()\n",
    "        st.snow()\n",
    "\n",
    "if st.sidebar.button(\"Je serais vous je ne cliquerais pas dessus wallah c'est une surprise\"):\n",
    "    st.error(\"Pardon je n'ai pas compris votre demande, veuillez tenter votre chance une autre fois, merci de votre comprehension\")\n",
    "    st.button (\"Trop bien ouhya\")\n",
    "\n",
    "    for i in range (10):\n",
    "        st.snow()\n",
    "        st.balloons()\n",
    "\n",
    "st.image('https://media.tenor.com/images/2f8eff3abbc7faef66de7d1f2303106d/tenor.gif')\n",
    "\n",
    "# Bouton pour afficher la carte avec les points sur le conté de King\n",
    "\n",
    "if st.sidebar.button(\"Clique dessus pour afficher la carte lo !\"):\n",
    "    st.map()"
   ]
  }
 ],
 "metadata": {
  "kernelspec": {
   "display_name": "Python 3.9.13 ('base')",
   "language": "python",
   "name": "python3"
  },
  "language_info": {
   "codemirror_mode": {
    "name": "ipython",
    "version": 3
   },
   "file_extension": ".py",
   "mimetype": "text/x-python",
   "name": "python",
   "nbconvert_exporter": "python",
   "pygments_lexer": "ipython3",
   "version": "3.9.13"
  },
  "orig_nbformat": 4,
  "vscode": {
   "interpreter": {
    "hash": "d8c0ad78633a8b43965fe5f8bc8a2da663397bf1cf3d05244bf937683be8c88a"
   }
  }
 },
 "nbformat": 4,
 "nbformat_minor": 2
}
